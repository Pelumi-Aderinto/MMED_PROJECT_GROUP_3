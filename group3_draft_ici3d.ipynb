{
  "cells": [
    {
      "cell_type": "markdown",
      "id": "15bcc849",
      "metadata": {
        "id": "15bcc849"
      },
      "source": [
        "# **MMED GROUP 3 : DRAFT**"
      ]
    },
    {
      "cell_type": "markdown",
      "id": "e062b4f7",
      "metadata": {
        "id": "e062b4f7"
      },
      "source": [
        "# **Section 1: Maximum Likelihood Estimate**"
      ]
    },
    {
      "cell_type": "code",
      "execution_count": null,
      "id": "803165cf",
      "metadata": {
        "id": "803165cf"
      },
      "outputs": [],
      "source": [
        "# Remove all objects in memory\n",
        "rm(list = ls())"
      ]
    },
    {
      "cell_type": "markdown",
      "source": [
        "**1.  LOAD NECESSARY LIBRARIES**"
      ],
      "metadata": {
        "id": "WRJZPL3zF5dk"
      },
      "id": "WRJZPL3zF5dk"
    },
    {
      "cell_type": "code",
      "source": [
        "install.packages(\"deSolve\")"
      ],
      "metadata": {
        "colab": {
          "base_uri": "https://localhost:8080/"
        },
        "id": "A3EIhPVZOc16",
        "outputId": "229096e9-d44d-4af4-e069-be10d0e71090"
      },
      "id": "A3EIhPVZOc16",
      "execution_count": null,
      "outputs": [
        {
          "output_type": "stream",
          "name": "stderr",
          "text": [
            "Installing package into ‘/usr/local/lib/R/site-library’\n",
            "(as ‘lib’ is unspecified)\n",
            "\n"
          ]
        }
      ]
    },
    {
      "cell_type": "code",
      "source": [
        "install.packages(\"MCMCpack\")\n",
        "#install.packages(\"adaptMCMC\")"
      ],
      "metadata": {
        "colab": {
          "base_uri": "https://localhost:8080/"
        },
        "id": "11rg54FfvKgY",
        "outputId": "0c2e0ecd-6755-4842-9f13-c9fd5d946e94"
      },
      "id": "11rg54FfvKgY",
      "execution_count": null,
      "outputs": [
        {
          "output_type": "stream",
          "name": "stderr",
          "text": [
            "Installing package into ‘/usr/local/lib/R/site-library’\n",
            "(as ‘lib’ is unspecified)\n",
            "\n",
            "also installing the dependencies ‘SparseM’, ‘MatrixModels’, ‘coda’, ‘mcmc’, ‘quantreg’\n",
            "\n",
            "\n"
          ]
        }
      ]
    },
    {
      "cell_type": "code",
      "source": [
        "install.packages(\"ellipse\")"
      ],
      "metadata": {
        "colab": {
          "base_uri": "https://localhost:8080/"
        },
        "id": "5oTFpFd4vC_j",
        "outputId": "a900334a-ad8e-4cfe-dcb4-5a2b522c00be"
      },
      "id": "5oTFpFd4vC_j",
      "execution_count": null,
      "outputs": [
        {
          "output_type": "stream",
          "name": "stderr",
          "text": [
            "Installing package into ‘/usr/local/lib/R/site-library’\n",
            "(as ‘lib’ is unspecified)\n",
            "\n"
          ]
        }
      ]
    },
    {
      "cell_type": "code",
      "source": [
        "install.packages(\"mnormt\")"
      ],
      "metadata": {
        "colab": {
          "base_uri": "https://localhost:8080/"
        },
        "id": "BXcp2-NawH0L",
        "outputId": "2fa46ed6-1502-40d5-eccb-9afd9d1be396"
      },
      "id": "BXcp2-NawH0L",
      "execution_count": null,
      "outputs": [
        {
          "output_type": "stream",
          "name": "stderr",
          "text": [
            "Installing package into ‘/usr/local/lib/R/site-library’\n",
            "(as ‘lib’ is unspecified)\n",
            "\n"
          ]
        }
      ]
    },
    {
      "cell_type": "code",
      "source": [
        "install.packages(\"emdbook\")"
      ],
      "metadata": {
        "colab": {
          "base_uri": "https://localhost:8080/"
        },
        "id": "1OBriHD7wQXK",
        "outputId": "1bcf6eea-9cd1-43e7-8625-e519333c1925"
      },
      "id": "1OBriHD7wQXK",
      "execution_count": null,
      "outputs": [
        {
          "output_type": "stream",
          "name": "stderr",
          "text": [
            "Installing package into ‘/usr/local/lib/R/site-library’\n",
            "(as ‘lib’ is unspecified)\n",
            "\n",
            "also installing the dependencies ‘Rcpp’, ‘numDeriv’, ‘bdsmatrix’, ‘mvtnorm’, ‘plyr’, ‘bbmle’\n",
            "\n",
            "\n"
          ]
        }
      ]
    },
    {
      "cell_type": "code",
      "execution_count": null,
      "id": "36e80a14",
      "metadata": {
        "id": "36e80a14",
        "colab": {
          "base_uri": "https://localhost:8080/"
        },
        "outputId": "32950d37-a0d8-4fc3-fcc3-01e6fc46f685"
      },
      "outputs": [
        {
          "output_type": "stream",
          "name": "stderr",
          "text": [
            "Loading required package: coda\n",
            "\n",
            "Loading required package: MASS\n",
            "\n",
            "##\n",
            "## Markov Chain Monte Carlo Package (MCMCpack)\n",
            "\n",
            "## Copyright (C) 2003-2024 Andrew D. Martin, Kevin M. Quinn, and Jong Hee Park\n",
            "\n",
            "##\n",
            "## Support provided by the U.S. National Science Foundation\n",
            "\n",
            "## (Grants SES-0350646 and SES-0350613)\n",
            "##\n",
            "\n",
            "\n",
            "Attaching package: ‘ellipse’\n",
            "\n",
            "\n",
            "The following object is masked from ‘package:graphics’:\n",
            "\n",
            "    pairs\n",
            "\n",
            "\n"
          ]
        }
      ],
      "source": [
        "library(deSolve)\n",
        "library(MCMCpack)\n",
        "library(coda)\n",
        "library(ggplot2)\n",
        "library(boot)\n",
        "library(ellipse)\n",
        "library(parallel)\n",
        "library(mnormt)\n",
        "library(emdbook)"
      ]
    },
    {
      "cell_type": "markdown",
      "source": [
        "**2. MODEL IMPLEMENTATION**"
      ],
      "metadata": {
        "id": "dGOzZhYDGV5r"
      },
      "id": "dGOzZhYDGV5r"
    },
    {
      "cell_type": "markdown",
      "source": [
        "In epidemiological models, a control function $C(t)$ is often used to simulate the impact of *interventions, policies, or behavioral changes* over time that affect the transmission dynamics of the disease. The form of $C(t)$ can vary depending on the specific model and the nature of the intervention being simulated. Common forms include `step functions` (representing sudden changes), `logistic functions` (representing gradual changes), or other functional forms that model the timing and effectiveness of interventions. So, in the cell below we are gonna implement the $SI_{1:4}$ model including interventions."
      ],
      "metadata": {
        "id": "XWY0sAahFKeR"
      },
      "id": "XWY0sAahFKeR"
    },
    {
      "cell_type": "code",
      "execution_count": null,
      "id": "230b1faf",
      "metadata": {
        "id": "230b1faf"
      },
      "outputs": [],
      "source": [
        "# Function to set disease parameters with default values\n",
        "disease_params <- function(lambda = 0.9, a = 5.5, cMax = 0.85, cRate = 1, cHalf = 1990,\n",
        "                           delta = 0.1, b = 0.02, mu = 0.01) {\n",
        "  return(as.list(environment()))\n",
        "}"
      ]
    },
    {
      "cell_type": "code",
      "execution_count": null,
      "id": "046f02e5",
      "metadata": {
        "id": "046f02e5"
      },
      "outputs": [],
      "source": [
        "# Define the SI_1_4 ODE model\n",
        "SImod <- function(tt, yy, parms) with(as.list(c(parms, yy)), {\n",
        "  I <- I1 + I2 + I3 + I4  # Total infected\n",
        "  N <- S + I  # Total population\n",
        "  lambdaHat <- lambda * exp(-a * I / N)  # Effective transmission rate\n",
        "  C_t <- 1 - cMax / (1 + exp(-cRate * (tt - cHalf)))  # Control function C(t)\n",
        " #invControl <- min(1,1 - cMax/(1+exp(-cRate*(t-cHalf))))\n",
        "  FOI <- lambdaHat * I / N * C_t  # Force of infection\n",
        "  g <- 4 * delta  # Transition rate between stages\n",
        "\n",
        "  deriv <- rep(NA, 7)\n",
        "  deriv[1] <- b * N - FOI * S - mu * S  # Susceptibles\n",
        "  deriv[2] <- FOI * S - g * I1 - mu * I1  # Infection class I1\n",
        "  deriv[3] <- g * I1 - g * I2 - mu * I2  # Infection class I2\n",
        "  deriv[4] <- g * I2 - g * I3 - mu * I3  # Infection class I3\n",
        "  deriv[5] <- g * I3 - g * I4 - mu * I4  # Infection class I4\n",
        "  deriv[6] <- FOI * S  # Cumulative incidence\n",
        "  deriv[7] <- g * I4  # Cumulative mortality\n",
        "  return(list(deriv))\n",
        "})\n"
      ]
    },
    {
      "cell_type": "markdown",
      "source": [
        "\n",
        "In this model, the control function $C(t)$ is defined by the logistic function:\n",
        "$$C(t) = 1 - \\frac{c_{\\text{Max}}}{1 + \\exp(-c_{\\text{Rate}} \\cdot (t - c_{\\text{Half}}))}$$\n",
        "where:\n",
        "\n",
        "- $ c_{\\text{Max}}$ represents the maximum effect of the control function.\n",
        "\n",
        "- $ c_{\\text{Rate}}$ is the rate parameter determining how quickly the control function changes over time.\n",
        "\n",
        "- $ c_{\\text{Half}} $ denotes the time at which the control function achieves half of its maximum effect."
      ],
      "metadata": {
        "id": "S1m0z2qtD2fw"
      },
      "id": "S1m0z2qtD2fw"
    },
    {
      "cell_type": "code",
      "execution_count": null,
      "id": "d5e85681",
      "metadata": {
        "id": "d5e85681"
      },
      "outputs": [],
      "source": [
        "# Function to run the deterministic model simulation\n",
        "simEpidemic <- function(init, tseq, modFunction, parms) {\n",
        "  simDat <- as.data.frame(ode(y = init, times = tseq, func = modFunction, parms = parms))\n",
        "  simDat$I <- rowSums(simDat[, paste0(\"I\", 1:4)])\n",
        "  simDat$N <- rowSums(simDat[, c(\"S\", paste0(\"I\", 1:4))])\n",
        "  simDat$P <- simDat$I / simDat$N\n",
        "  return(simDat)\n",
        "}"
      ]
    },
    {
      "cell_type": "code",
      "execution_count": null,
      "id": "8f3eb226",
      "metadata": {
        "id": "8f3eb226"
      },
      "outputs": [],
      "source": [
        "# Initial conditions and time sequence\n",
        "init <- c(S = 999, I1 = 5, I2 = 3, I3 = 1, I4 = 1, CI = 0, CD = 0)\n",
        "tseqAnnual <- seq(1980, 2020, by = 1)\n",
        "\n",
        "# Simulate the epidemic with default parameters\n",
        "trueParms <- disease_params()\n",
        "simDat <- simEpidemic(init, tseq = tseqAnnual, modFunction = SImod, parms = trueParms)"
      ]
    },
    {
      "cell_type": "code",
      "execution_count": null,
      "id": "179ff08e",
      "metadata": {
        "id": "179ff08e",
        "outputId": "5cde41ba-8044-4bf6-f929-ea73d5d63c1a",
        "colab": {
          "base_uri": "https://localhost:8080/",
          "height": 286
        }
      },
      "outputs": [
        {
          "output_type": "display_data",
          "data": {
            "text/html": [
              "<table class=\"dataframe\">\n",
              "<caption>A data.frame: 6 × 11</caption>\n",
              "<thead>\n",
              "\t<tr><th></th><th scope=col>time</th><th scope=col>S</th><th scope=col>I1</th><th scope=col>I2</th><th scope=col>I3</th><th scope=col>I4</th><th scope=col>CI</th><th scope=col>CD</th><th scope=col>I</th><th scope=col>N</th><th scope=col>P</th></tr>\n",
              "\t<tr><th></th><th scope=col>&lt;dbl&gt;</th><th scope=col>&lt;dbl&gt;</th><th scope=col>&lt;dbl&gt;</th><th scope=col>&lt;dbl&gt;</th><th scope=col>&lt;dbl&gt;</th><th scope=col>&lt;dbl&gt;</th><th scope=col>&lt;dbl&gt;</th><th scope=col>&lt;dbl&gt;</th><th scope=col>&lt;dbl&gt;</th><th scope=col>&lt;dbl&gt;</th><th scope=col>&lt;dbl&gt;</th></tr>\n",
              "</thead>\n",
              "<tbody>\n",
              "\t<tr><th scope=row>1</th><td>1980</td><td>999.0000</td><td> 5.00000</td><td> 3.000000</td><td> 1.000000</td><td>1.000000</td><td>  0.00000</td><td>0.0000000</td><td> 10.00000</td><td>1009.000</td><td>0.009910803</td></tr>\n",
              "\t<tr><th scope=row>2</th><td>1981</td><td>996.9517</td><td>13.68171</td><td> 5.014798</td><td> 1.929171</td><td>1.142893</td><td> 12.33872</td><td>0.4183274</td><td> 21.76857</td><td>1018.720</td><td>0.021368544</td></tr>\n",
              "\t<tr><th scope=row>3</th><td>1982</td><td>984.2382</td><td>28.53410</td><td>10.230372</td><td> 3.735847</td><td>1.671330</td><td> 35.60710</td><td>0.9644457</td><td> 44.17165</td><td>1028.410</td><td>0.042951405</td></tr>\n",
              "\t<tr><th scope=row>4</th><td>1983</td><td>958.2416</td><td>49.61311</td><td>19.718175</td><td> 7.374367</td><td>2.909609</td><td> 72.54383</td><td>1.8491177</td><td> 79.61526</td><td>1037.857</td><td>0.076711212</td></tr>\n",
              "\t<tr><th scope=row>5</th><td>1984</td><td>921.7897</td><td>72.43473</td><td>33.407790</td><td>13.667300</td><td>5.374266</td><td>120.43623</td><td>3.4555951</td><td>124.88408</td><td>1046.674</td><td>0.119315192</td></tr>\n",
              "\t<tr><th scope=row>6</th><td>1985</td><td>881.4485</td><td>91.03854</td><td>49.377274</td><td>22.807848</td><td>9.581160</td><td>172.77270</td><td>6.3820737</td><td>172.80482</td><td>1054.253</td><td>0.163912056</td></tr>\n",
              "</tbody>\n",
              "</table>\n"
            ],
            "text/markdown": "\nA data.frame: 6 × 11\n\n| <!--/--> | time &lt;dbl&gt; | S &lt;dbl&gt; | I1 &lt;dbl&gt; | I2 &lt;dbl&gt; | I3 &lt;dbl&gt; | I4 &lt;dbl&gt; | CI &lt;dbl&gt; | CD &lt;dbl&gt; | I &lt;dbl&gt; | N &lt;dbl&gt; | P &lt;dbl&gt; |\n|---|---|---|---|---|---|---|---|---|---|---|---|\n| 1 | 1980 | 999.0000 |  5.00000 |  3.000000 |  1.000000 | 1.000000 |   0.00000 | 0.0000000 |  10.00000 | 1009.000 | 0.009910803 |\n| 2 | 1981 | 996.9517 | 13.68171 |  5.014798 |  1.929171 | 1.142893 |  12.33872 | 0.4183274 |  21.76857 | 1018.720 | 0.021368544 |\n| 3 | 1982 | 984.2382 | 28.53410 | 10.230372 |  3.735847 | 1.671330 |  35.60710 | 0.9644457 |  44.17165 | 1028.410 | 0.042951405 |\n| 4 | 1983 | 958.2416 | 49.61311 | 19.718175 |  7.374367 | 2.909609 |  72.54383 | 1.8491177 |  79.61526 | 1037.857 | 0.076711212 |\n| 5 | 1984 | 921.7897 | 72.43473 | 33.407790 | 13.667300 | 5.374266 | 120.43623 | 3.4555951 | 124.88408 | 1046.674 | 0.119315192 |\n| 6 | 1985 | 881.4485 | 91.03854 | 49.377274 | 22.807848 | 9.581160 | 172.77270 | 6.3820737 | 172.80482 | 1054.253 | 0.163912056 |\n\n",
            "text/latex": "A data.frame: 6 × 11\n\\begin{tabular}{r|lllllllllll}\n  & time & S & I1 & I2 & I3 & I4 & CI & CD & I & N & P\\\\\n  & <dbl> & <dbl> & <dbl> & <dbl> & <dbl> & <dbl> & <dbl> & <dbl> & <dbl> & <dbl> & <dbl>\\\\\n\\hline\n\t1 & 1980 & 999.0000 &  5.00000 &  3.000000 &  1.000000 & 1.000000 &   0.00000 & 0.0000000 &  10.00000 & 1009.000 & 0.009910803\\\\\n\t2 & 1981 & 996.9517 & 13.68171 &  5.014798 &  1.929171 & 1.142893 &  12.33872 & 0.4183274 &  21.76857 & 1018.720 & 0.021368544\\\\\n\t3 & 1982 & 984.2382 & 28.53410 & 10.230372 &  3.735847 & 1.671330 &  35.60710 & 0.9644457 &  44.17165 & 1028.410 & 0.042951405\\\\\n\t4 & 1983 & 958.2416 & 49.61311 & 19.718175 &  7.374367 & 2.909609 &  72.54383 & 1.8491177 &  79.61526 & 1037.857 & 0.076711212\\\\\n\t5 & 1984 & 921.7897 & 72.43473 & 33.407790 & 13.667300 & 5.374266 & 120.43623 & 3.4555951 & 124.88408 & 1046.674 & 0.119315192\\\\\n\t6 & 1985 & 881.4485 & 91.03854 & 49.377274 & 22.807848 & 9.581160 & 172.77270 & 6.3820737 & 172.80482 & 1054.253 & 0.163912056\\\\\n\\end{tabular}\n",
            "text/plain": [
              "  time S        I1       I2        I3        I4       CI        CD       \n",
              "1 1980 999.0000  5.00000  3.000000  1.000000 1.000000   0.00000 0.0000000\n",
              "2 1981 996.9517 13.68171  5.014798  1.929171 1.142893  12.33872 0.4183274\n",
              "3 1982 984.2382 28.53410 10.230372  3.735847 1.671330  35.60710 0.9644457\n",
              "4 1983 958.2416 49.61311 19.718175  7.374367 2.909609  72.54383 1.8491177\n",
              "5 1984 921.7897 72.43473 33.407790 13.667300 5.374266 120.43623 3.4555951\n",
              "6 1985 881.4485 91.03854 49.377274 22.807848 9.581160 172.77270 6.3820737\n",
              "  I         N        P          \n",
              "1  10.00000 1009.000 0.009910803\n",
              "2  21.76857 1018.720 0.021368544\n",
              "3  44.17165 1028.410 0.042951405\n",
              "4  79.61526 1037.857 0.076711212\n",
              "5 124.88408 1046.674 0.119315192\n",
              "6 172.80482 1054.253 0.163912056"
            ]
          },
          "metadata": {}
        }
      ],
      "source": [
        "# Visualize dataframe\n",
        "head(simDat)"
      ]
    },
    {
      "cell_type": "code",
      "execution_count": null,
      "id": "426000f8",
      "metadata": {
        "id": "426000f8",
        "outputId": "642563e1-bdfb-4a14-f4fd-8bcec62922bb",
        "colab": {
          "base_uri": "https://localhost:8080/",
          "height": 437
        }
      },
      "outputs": [
        {
          "output_type": "display_data",
          "data": {
            "text/plain": [
              "Plot with title “SI model simulations”"
            ],
            "image/png": "[encoded data removed]"
          },
          "metadata": {
            "image/png": {
              "width": 420,
              "height": 420
            }
          }
        }
      ],
      "source": [
        "# Plot compartments\n",
        "plot(simDat$time, simDat$S, type = \"l\", col = \"green\", xlab = \"Year\",ylim=c(0,1000), ylab = \"Population\",lwd=2,\n",
        "     main = \"SI model simulations\")\n",
        "lines(simDat$time, simDat$I, col = \"magenta\",lwd = 2)\n",
        "lines(simDat$time, simDat$I1, col = \"red\")\n",
        "lines(simDat$time, simDat$I2, col = \"blue\")\n",
        "lines(simDat$time, simDat$I3, col = \"purple\")\n",
        "lines(simDat$time, simDat$I4, col = \"orange\")\n",
        "legend(\"right\", legend = c(\"S\",\"I\", \"I1\", \"I2\", \"I3\", \"I4\"), col = c(\"green\",\"magenta\", \"red\", \"blue\", \"purple\", \"orange\"), lty = 1)"
      ]
    },
    {
      "cell_type": "code",
      "execution_count": null,
      "id": "da47a406",
      "metadata": {
        "id": "da47a406",
        "outputId": "b0c9f317-2a07-4656-c83c-9cf300007d0f",
        "colab": {
          "base_uri": "https://localhost:8080/",
          "height": 437
        }
      },
      "outputs": [
        {
          "output_type": "display_data",
          "data": {
            "text/plain": [
              "plot without title"
            ],
            "image/png": "[encoded data removed]"
          },
          "metadata": {
            "image/png": {
              "width": 420,
              "height": 420
            }
          }
        }
      ],
      "source": [
        "# Plot simulated prevalence through time\n",
        "ggplot(simDat, aes(x = time, y = P)) +\n",
        "  geom_line(color = \"red\",lwd=1) +\n",
        "  labs(title = \"Simulated HIV Prevalence Over Time\",\n",
        "       x = \"Year\",\n",
        "       y = \"Prevalence\") +\n",
        "  theme_minimal()"
      ]
    },
    {
      "cell_type": "code",
      "execution_count": null,
      "id": "579548b9",
      "metadata": {
        "id": "579548b9"
      },
      "outputs": [],
      "source": [
        "# Function to sample the epidemic data : I wanna get 500 samples every year from 1980 to 2020\n",
        "sampleEpidemic <- function(simDat, sampleDates = seq(1980, 2020, by =3), numSamp = rep(200, length(sampleDates))) {\n",
        "  prev_at_sample_times <- simDat[simDat$time %in% sampleDates, \"P\"]\n",
        "  numPos <- rbinom(length(numSamp), numSamp, prev_at_sample_times)\n",
        "  lci <- mapply(function(x, n) binom.test(x, n)$conf.int[1], x = numPos, n = numSamp)\n",
        "  uci <- mapply(function(x, n) binom.test(x, n)$conf.int[2], x = numPos, n = numSamp)\n",
        "  return(data.frame(time = sampleDates, numPos, numSamp, sampPrev = numPos / numSamp, lci = lci, uci = uci))\n",
        "}\n",
        "#best guess : seq(1980, 2020, by =5), numSamp = rep(300, length(sampleDates)"
      ]
    },
    {
      "cell_type": "code",
      "execution_count": null,
      "id": "637df7b4",
      "metadata": {
        "id": "637df7b4",
        "outputId": "0d8d7bb8-df23-44c5-fe87-fd215b0f39ca",
        "colab": {
          "base_uri": "https://localhost:8080/",
          "height": 437
        }
      },
      "outputs": [
        {
          "output_type": "display_data",
          "data": {
            "text/plain": [
              "plot without title"
            ],
            "image/png": "[encoded data removed]"
          },
          "metadata": {
            "image/png": {
              "width": 420,
              "height": 420
            }
          }
        }
      ],
      "source": [
        "# Sample the epidemic data\n",
        "set.seed(1)\n",
        "myDat <- sampleEpidemic(simDat)\n",
        "\n",
        "# Plot sampled prevalence with confidence intervals\n",
        "ggplot(myDat, aes(x = time, y = sampPrev)) +\n",
        "  geom_point(color = \"red\", size = 2) +\n",
        "  geom_errorbar(aes(ymin = lci, ymax = uci), width = 0.2, color = \"red\") +\n",
        "  labs(title = \"Sampled HIV Prevalence with Confidence Intervals\",\n",
        "       x = \"Year\",\n",
        "       y = \"Sampled Prevalence\") +\n",
        "  theme_minimal() +\n",
        "  geom_line(data = simDat, aes(x = time, y = P), color = \"blue\", linetype = \"dashed\")"
      ]
    },
    {
      "cell_type": "markdown",
      "source": [
        "Let's  calculate the negative log-likelihood of observing the sampled epidemic data (obsDat) given a set of parameters (parms) for the epidemic model."
      ],
      "metadata": {
        "id": "VekfP2AxTH1h"
      },
      "id": "VekfP2AxTH1h"
    },
    {
      "cell_type": "code",
      "execution_count": null,
      "id": "6c8a6fde",
      "metadata": {
        "id": "6c8a6fde"
      },
      "outputs": [],
      "source": [
        "# Negative log-likelihood function\n",
        "nllikelihood <- function(parms = disease_params(), obsDat = myDat) {\n",
        "  simDat <- simEpidemic(init, tseq = tseqAnnual, modFunction = SImod, parms = parms)\n",
        "  matchedTimes <- simDat$time %in% obsDat$time\n",
        "  nlls <- -dbinom(obsDat$numPos, obsDat$numSamp, prob = simDat$P[matchedTimes], log = TRUE)\n",
        "  return(sum(nlls))\n",
        "}"
      ]
    },
    {
      "cell_type": "markdown",
      "source": [
        "The function given above computes the negative log-likelihood, which is a measure of how well the simulated epidemic data (simDat) matches the observed data (myDat) given the model parameters (parms)."
      ],
      "metadata": {
        "id": "jZXlEUxSVB41"
      },
      "id": "jZXlEUxSVB41"
    },
    {
      "cell_type": "code",
      "execution_count": null,
      "id": "b41fc3c0",
      "metadata": {
        "id": "b41fc3c0",
        "outputId": "d1abeb42-5cde-4bb8-807b-2d9968abf936",
        "colab": {
          "base_uri": "https://localhost:8080/",
          "height": 34
        }
      },
      "outputs": [
        {
          "output_type": "display_data",
          "data": {
            "text/html": [
              "39.6016104128083"
            ],
            "text/markdown": "39.6016104128083",
            "text/latex": "39.6016104128083",
            "text/plain": [
              "[1] 39.60161"
            ]
          },
          "metadata": {}
        }
      ],
      "source": [
        "# Calculate log-likelihood for true parameters\n",
        "nllikelihood(trueParms)"
      ]
    },
    {
      "cell_type": "code",
      "execution_count": null,
      "id": "983fe678",
      "metadata": {
        "id": "983fe678",
        "outputId": "cc165ec2-f108-4a58-c11c-28d867050a6e",
        "colab": {
          "base_uri": "https://localhost:8080/",
          "height": 34
        }
      },
      "outputs": [
        {
          "output_type": "display_data",
          "data": {
            "text/html": [
              "1293.46660408781"
            ],
            "text/markdown": "1293.46660408781",
            "text/latex": "1293.46660408781",
            "text/plain": [
              "[1] 1293.467"
            ]
          },
          "metadata": {}
        }
      ],
      "source": [
        "# Calculate log-likelihood for some random guessed parameters\n",
        "nllikelihood(disease_params(lambda = 0.1, a = 0.05))"
      ]
    },
    {
      "cell_type": "markdown",
      "source": [
        "Lower values of NLL indicate a better fit of the model to the observed data, as the likelihood of observing the data given the model parameters is higher.  Let's use optimization techniques (e.g., maximum likelihood estimation) to find parameters (parms) that minimize the NLL, indicating the best-fit model to the observed data."
      ],
      "metadata": {
        "id": "voWGnnmvV6lI"
      },
      "id": "voWGnnmvV6lI"
    },
    {
      "cell_type": "markdown",
      "source": [
        "Firstly, let's convert the fitted parameters (fit.params) back into their original scale from a logarithmic scale."
      ],
      "metadata": {
        "id": "Q435m_nTXnfU"
      },
      "id": "Q435m_nTXnfU"
    },
    {
      "cell_type": "code",
      "execution_count": null,
      "id": "faa096c9",
      "metadata": {
        "id": "faa096c9"
      },
      "outputs": [],
      "source": [
        "# Function to substitute parameters\n",
        "subsParms <- function(fit.params, fixed.params = disease_params()) {\n",
        "  within(fixed.params, {\n",
        "    loggedParms <- names(fit.params)[grepl(\"log_\", names(fit.params))]\n",
        "    unloggedParms <- names(fit.params)[!grepl(\"log_\", names(fit.params))]\n",
        "    for (nm in unloggedParms) assign(nm, as.numeric(fit.params[nm]))\n",
        "    for (nm in loggedParms) assign(gsub(\"log_\", \"\", nm), exp(as.numeric(fit.params[nm])))\n",
        "    rm(nm, loggedParms, unloggedParms)\n",
        "  })\n",
        "}"
      ]
    },
    {
      "cell_type": "markdown",
      "source": [
        "Secondly, let's defines the objective function for optimization (optim function). In fact, it's the negative log-likelihood (nllikelihood) using transformed parameters (parms) for comparing model predictions against observed data (obsDat)."
      ],
      "metadata": {
        "id": "mjWpMePFX38q"
      },
      "id": "mjWpMePFX38q"
    },
    {
      "cell_type": "code",
      "execution_count": null,
      "id": "6012aa25",
      "metadata": {
        "id": "6012aa25"
      },
      "outputs": [],
      "source": [
        "objFXN <- function(fit.params, fixed.params = disease_params(), obsDat = myDat) {\n",
        "  parms <- subsParms(fit.params, fixed.params)\n",
        "  nllikelihood(parms, obsDat = obsDat)\n",
        "}"
      ]
    },
    {
      "cell_type": "markdown",
      "source": [
        "Thirdly, let's set an initial guesses for parameters in logarithmic scale."
      ],
      "metadata": {
        "id": "VN_niBDUY0Ux"
      },
      "id": "VN_niBDUY0Ux"
    },
    {
      "cell_type": "code",
      "execution_count": null,
      "id": "8a6a729b",
      "metadata": {
        "id": "8a6a729b"
      },
      "outputs": [],
      "source": [
        "# Initial parameter guesses\n",
        "init.pars <- c(log_lambda = log(0.5), log_a = log(3), log_cMax = log(0.65),\n",
        "log_cRate = log(2), log_cHalf = log(2000), log_delta = log(0.02),\n",
        "               log_b = log(0.03), log_mu = log(0.02))"
      ]
    },
    {
      "cell_type": "markdown",
      "source": [
        "  We are gonna use simulated annealing (method = \"SANN\") for initial optimization attempts."
      ],
      "metadata": {
        "id": "TAzght3tZO7u"
      },
      "id": "TAzght3tZO7u"
    },
    {
      "cell_type": "code",
      "execution_count": null,
      "id": "6fa7e9f9",
      "metadata": {
        "id": "6fa7e9f9",
        "outputId": "e620c036-c9b7-458a-ddb3-c6b70932d4ea",
        "colab": {
          "base_uri": "https://localhost:8080/",
          "height": 108
        }
      },
      "outputs": [
        {
          "output_type": "stream",
          "name": "stdout",
          "text": [
            "sann objective function values\n",
            "initial       value 531.258599\n",
            "final         value 91.871806\n",
            "sann stopped after 149 iterations\n"
          ]
        },
        {
          "output_type": "display_data",
          "data": {
            "text/html": [
              "<style>\n",
              ".list-inline {list-style: none; margin:0; padding: 0}\n",
              ".list-inline>li {display: inline-block}\n",
              ".list-inline>li:not(:last-child)::after {content: \"\\00b7\"; padding: 0 .5ex}\n",
              "</style>\n",
              "<ol class=list-inline><li>0.777959162512737</li><li>10.3146215727669</li><li>0.40594270831987</li><li>3.71718344824949</li><li>2001.89256412872</li><li>0.0974964944378396</li><li>0.00165810175597105</li><li>0.0171104100837087</li></ol>\n"
            ],
            "text/markdown": "1. 0.777959162512737\n2. 10.3146215727669\n3. 0.40594270831987\n4. 3.71718344824949\n5. 2001.89256412872\n6. 0.0974964944378396\n7. 0.00165810175597105\n8. 0.0171104100837087\n\n\n",
            "text/latex": "\\begin{enumerate*}\n\\item 0.777959162512737\n\\item 10.3146215727669\n\\item 0.40594270831987\n\\item 3.71718344824949\n\\item 2001.89256412872\n\\item 0.0974964944378396\n\\item 0.00165810175597105\n\\item 0.0171104100837087\n\\end{enumerate*}\n",
            "text/plain": [
              "[1] 7.779592e-01 1.031462e+01 4.059427e-01 3.717183e+00 2.001893e+03\n",
              "[6] 9.749649e-02 1.658102e-03 1.711041e-02"
            ]
          },
          "metadata": {}
        }
      ],
      "source": [
        "optim.vals <- optim(par = init.pars, objFXN, fixed.params = disease_params(),\n",
        "obsDat = myDat, control = list(trace = 3, maxit = 150), method = \"SANN\")\n",
        "exp(unname(optim.vals$par))"
      ]
    },
    {
      "cell_type": "markdown",
      "source": [
        "Let's refines parameter estimates (optim.vals$par) using the `Nelder-Mead `optimization method."
      ],
      "metadata": {
        "id": "eByiqPxCav3Q"
      },
      "id": "eByiqPxCav3Q"
    },
    {
      "cell_type": "code",
      "execution_count": null,
      "id": "308c3ada",
      "metadata": {
        "id": "308c3ada",
        "outputId": "ceecb852-6bff-4a4d-89e0-dcecf69a5fe3",
        "colab": {
          "base_uri": "https://localhost:8080/",
          "height": 1000
        }
      },
      "outputs": [
        {
          "output_type": "stream",
          "name": "stdout",
          "text": [
            "  Nelder-Mead direct search function minimizer\n",
            "function value for initial parameters = 91.871806\n",
            "  Scaled convergence tolerance is 9.18718e-06\n",
            "Stepsize computed as 0.760185\n",
            "BUILD              9 157.635236 71.808163\n",
            "HI-REDUCTION      11 138.971060 71.808163\n",
            "HI-REDUCTION      13 130.129213 71.808163\n",
            "HI-REDUCTION      15 121.055265 71.808163\n",
            "HI-REDUCTION      17 116.619029 71.808163\n",
            "HI-REDUCTION      19 115.783196 71.808163\n",
            "HI-REDUCTION      21 113.521572 71.808163\n",
            "HI-REDUCTION      23 113.020349 71.808163\n",
            "HI-REDUCTION      25 113.009430 71.808163\n",
            "HI-REDUCTION      27 112.523984 71.808163\n",
            "SHRINK            37 116.317062 71.808163\n",
            "SHRINK            47 118.566678 71.214034\n",
            "SHRINK            57 119.780931 69.468088\n",
            "HI-REDUCTION      59 115.738272 69.468088\n",
            "LO-REDUCTION      61 104.192940 63.982698\n",
            "LO-REDUCTION      63 95.205697 63.677543\n",
            "LO-REDUCTION      65 71.221484 62.422862\n",
            "LO-REDUCTION      67 71.218678 62.422862\n",
            "LO-REDUCTION      69 71.218640 62.422862\n",
            "LO-REDUCTION      71 71.214034 62.422862\n",
            "LO-REDUCTION      73 70.404616 62.422862\n",
            "LO-REDUCTION      75 69.468088 62.422862\n",
            "LO-REDUCTION      77 64.369180 62.422862\n",
            "LO-REDUCTION      79 64.314309 62.422862\n",
            "HI-REDUCTION      81 64.249541 62.422862\n",
            "LO-REDUCTION      83 64.103856 62.422862\n",
            "LO-REDUCTION      85 64.078438 62.422862\n",
            "REFLECTION        87 63.982698 62.308309\n",
            "LO-REDUCTION      89 63.677543 62.308309\n",
            "REFLECTION        91 63.401020 62.224207\n",
            "EXTENSION         93 62.973700 60.847783\n",
            "LO-REDUCTION      95 62.803729 60.847783\n",
            "LO-REDUCTION      97 62.713893 60.847783\n",
            "LO-REDUCTION      99 62.515063 60.847783\n",
            "LO-REDUCTION     101 62.439630 60.847783\n",
            "LO-REDUCTION     103 62.422862 60.847783\n",
            "LO-REDUCTION     105 62.308309 60.847783\n",
            "EXTENSION        107 62.224207 60.302689\n",
            "LO-REDUCTION     109 62.086682 60.302689\n",
            "LO-REDUCTION     111 61.915720 60.302689\n",
            "EXTENSION        113 61.416991 58.718402\n",
            "LO-REDUCTION     115 61.319414 58.718402\n",
            "LO-REDUCTION     117 61.286982 58.718402\n",
            "LO-REDUCTION     119 61.236193 58.718402\n",
            "EXTENSION        121 60.847783 57.649495\n",
            "LO-REDUCTION     123 60.574945 57.649495\n",
            "EXTENSION        125 60.436107 56.381712\n",
            "LO-REDUCTION     127 60.302689 56.381712\n",
            "LO-REDUCTION     129 59.686690 56.381712\n",
            "LO-REDUCTION     131 59.497290 56.381712\n",
            "REFLECTION       133 58.837803 55.706365\n",
            "EXTENSION        135 58.718402 54.749616\n",
            "REFLECTION       137 57.842613 54.477567\n",
            "LO-REDUCTION     139 57.649495 54.477567\n",
            "LO-REDUCTION     141 57.185002 54.477567\n",
            "EXTENSION        143 57.002128 54.152408\n",
            "HI-REDUCTION     145 56.552186 54.152408\n",
            "EXTENSION        147 56.381712 53.601653\n",
            "LO-REDUCTION     149 55.706365 53.601653\n",
            "LO-REDUCTION     151 55.534457 53.601653\n",
            "LO-REDUCTION     153 55.431852 53.601653\n",
            "HI-REDUCTION     155 54.884278 53.601653\n",
            "REFLECTION       157 54.749616 53.410822\n",
            "REFLECTION       159 54.477567 53.359210\n",
            "LO-REDUCTION     161 54.187102 53.359210\n",
            "HI-REDUCTION     163 54.163069 53.359210\n",
            "EXTENSION        165 54.152408 52.961381\n",
            "LO-REDUCTION     167 53.733501 52.961381\n",
            "HI-REDUCTION     169 53.688316 52.961381\n",
            "LO-REDUCTION     171 53.676468 52.961381\n",
            "LO-REDUCTION     173 53.601653 52.961381\n",
            "LO-REDUCTION     175 53.529435 52.961381\n",
            "EXTENSION        177 53.410822 52.696367\n",
            "LO-REDUCTION     179 53.359210 52.696367\n",
            "EXTENSION        181 53.343877 52.325832\n",
            "LO-REDUCTION     183 53.120609 52.325832\n",
            "LO-REDUCTION     185 52.992535 52.325832\n",
            "LO-REDUCTION     187 52.990146 52.325832\n",
            "LO-REDUCTION     189 52.977210 52.325832\n",
            "LO-REDUCTION     191 52.961381 52.325832\n",
            "LO-REDUCTION     193 52.817466 52.325832\n",
            "EXTENSION        195 52.717063 52.276048\n",
            "EXTENSION        197 52.696367 51.874176\n",
            "LO-REDUCTION     199 52.647896 51.874176\n",
            "LO-REDUCTION     201 52.631632 51.874176\n",
            "LO-REDUCTION     203 52.534619 51.874176\n",
            "EXTENSION        205 52.430841 51.094278\n",
            "LO-REDUCTION     207 52.386448 51.094278\n",
            "LO-REDUCTION     209 52.325832 51.094278\n",
            "LO-REDUCTION     211 52.276048 51.094278\n",
            "LO-REDUCTION     213 52.135583 51.094278\n",
            "LO-REDUCTION     215 51.991169 51.094278\n",
            "LO-REDUCTION     217 51.887901 51.094278\n",
            "LO-REDUCTION     219 51.874176 51.094278\n",
            "REFLECTION       221 51.722144 50.860109\n",
            "EXTENSION        223 51.717864 50.731865\n",
            "REFLECTION       225 51.615976 50.469467\n",
            "LO-REDUCTION     227 51.334448 50.469467\n",
            "EXTENSION        229 51.264764 50.301462\n",
            "LO-REDUCTION     231 51.152144 50.301462\n",
            "HI-REDUCTION     233 51.145983 50.301462\n",
            "LO-REDUCTION     235 51.094278 50.301462\n",
            "REFLECTION       237 50.860109 50.300715\n",
            "HI-REDUCTION     239 50.839335 50.300715\n",
            "HI-REDUCTION     241 50.731865 50.300715\n",
            "EXTENSION        243 50.604040 49.949065\n",
            "LO-REDUCTION     245 50.518253 49.949065\n",
            "LO-REDUCTION     247 50.515836 49.949065\n",
            "LO-REDUCTION     249 50.469467 49.949065\n",
            "REFLECTION       251 50.442676 49.906995\n",
            "EXTENSION        253 50.438121 49.485339\n",
            "EXTENSION        255 50.301462 49.186225\n",
            "LO-REDUCTION     257 50.300715 49.186225\n",
            "LO-REDUCTION     259 50.050277 49.186225\n",
            "LO-REDUCTION     261 50.048847 49.186225\n",
            "LO-REDUCTION     263 49.984437 49.186225\n",
            "LO-REDUCTION     265 49.949065 49.186225\n",
            "LO-REDUCTION     267 49.906995 49.186225\n",
            "REFLECTION       269 49.680709 49.148683\n",
            "REFLECTION       271 49.608779 49.103363\n",
            "REFLECTION       273 49.485339 49.063492\n",
            "REFLECTION       275 49.398367 49.039460\n",
            "LO-REDUCTION     277 49.362141 49.025630\n",
            "REFLECTION       279 49.223793 48.940272\n",
            "REFLECTION       281 49.199505 48.905572\n",
            "EXTENSION        283 49.186225 48.814000\n",
            "LO-REDUCTION     285 49.148683 48.814000\n",
            "HI-REDUCTION     287 49.103363 48.814000\n",
            "EXTENSION        289 49.063492 48.809005\n",
            "EXTENSION        291 49.039460 48.623800\n",
            "LO-REDUCTION     293 49.025630 48.623800\n",
            "LO-REDUCTION     295 48.965022 48.623800\n",
            "EXTENSION        297 48.940272 48.439326\n",
            "LO-REDUCTION     299 48.939884 48.439326\n",
            "LO-REDUCTION     301 48.905572 48.439326\n",
            "LO-REDUCTION     303 48.814000 48.439326\n",
            "EXTENSION        305 48.809005 48.357717\n",
            "EXTENSION        307 48.789622 48.223231\n",
            "EXTENSION        309 48.713803 47.846680\n",
            "LO-REDUCTION     311 48.623800 47.846680\n",
            "LO-REDUCTION     313 48.556900 47.846680\n",
            "EXTENSION        315 48.491474 47.120555\n",
            "LO-REDUCTION     317 48.464138 47.120555\n",
            "LO-REDUCTION     319 48.439326 47.120555\n",
            "LO-REDUCTION     321 48.357717 47.120555\n",
            "LO-REDUCTION     323 48.223231 47.120555\n",
            "EXTENSION        325 48.000703 46.283532\n",
            "LO-REDUCTION     327 47.889362 46.283532\n",
            "EXTENSION        329 47.846680 44.316819\n",
            "LO-REDUCTION     331 47.474447 44.316819\n",
            "LO-REDUCTION     333 47.348192 44.316819\n",
            "LO-REDUCTION     335 47.199145 44.316819\n",
            "LO-REDUCTION     337 47.168560 44.316819\n",
            "EXTENSION        339 47.120555 41.202343\n",
            "LO-REDUCTION     341 46.462803 41.202343\n",
            "LO-REDUCTION     343 46.283532 41.202343\n",
            "LO-REDUCTION     345 45.364551 41.202343\n",
            "EXTENSION        347 45.065455 39.130414\n",
            "LO-REDUCTION     349 44.948587 39.130414\n",
            "EXTENSION        351 44.520379 38.218482\n",
            "LO-REDUCTION     353 44.316819 38.218482\n",
            "LO-REDUCTION     355 42.227628 38.218482\n",
            "LO-REDUCTION     357 42.181306 38.218482\n",
            "EXTENSION        359 41.657503 37.823405\n",
            "LO-REDUCTION     361 41.202343 37.823405\n",
            "LO-REDUCTION     363 39.803338 37.823405\n",
            "REFLECTION       365 39.764054 37.592156\n",
            "LO-REDUCTION     367 39.701100 37.592156\n",
            "LO-REDUCTION     369 39.130414 37.592156\n",
            "LO-REDUCTION     371 38.898470 37.592156\n",
            "LO-REDUCTION     373 38.446288 37.592156\n",
            "LO-REDUCTION     375 38.353833 37.526501\n",
            "LO-REDUCTION     377 38.218482 37.526501\n",
            "LO-REDUCTION     379 38.012282 37.526501\n",
            "LO-REDUCTION     381 37.823405 37.489688\n",
            "LO-REDUCTION     383 37.816252 37.489688\n",
            "LO-REDUCTION     385 37.680587 37.489688\n",
            "LO-REDUCTION     387 37.636239 37.489688\n",
            "LO-REDUCTION     389 37.616515 37.472579\n",
            "LO-REDUCTION     391 37.592156 37.472579\n",
            "HI-REDUCTION     393 37.564867 37.472579\n",
            "REFLECTION       395 37.564450 37.452840\n",
            "HI-REDUCTION     397 37.561304 37.452840\n",
            "LO-REDUCTION     399 37.530567 37.452213\n",
            "REFLECTION       401 37.526501 37.441349\n",
            "EXTENSION        403 37.489688 37.329806\n",
            "HI-REDUCTION     405 37.489598 37.329806\n",
            "LO-REDUCTION     407 37.477362 37.329806\n",
            "LO-REDUCTION     409 37.473089 37.329806\n",
            "LO-REDUCTION     411 37.472579 37.329806\n",
            "LO-REDUCTION     413 37.452840 37.329806\n",
            "LO-REDUCTION     415 37.452213 37.329806\n",
            "EXTENSION        417 37.441349 37.286607\n",
            "LO-REDUCTION     419 37.430542 37.286607\n",
            "EXTENSION        421 37.404208 37.273552\n",
            "LO-REDUCTION     423 37.399747 37.273552\n",
            "LO-REDUCTION     425 37.387689 37.273552\n",
            "EXTENSION        427 37.363327 37.176193\n",
            "LO-REDUCTION     429 37.332689 37.176193\n",
            "LO-REDUCTION     431 37.331989 37.176193\n",
            "LO-REDUCTION     433 37.329806 37.176193\n",
            "LO-REDUCTION     435 37.286607 37.176193\n",
            "HI-REDUCTION     437 37.285777 37.176193\n",
            "LO-REDUCTION     439 37.281233 37.176193\n",
            "LO-REDUCTION     441 37.273552 37.176193\n",
            "REFLECTION       443 37.225966 37.169910\n",
            "LO-REDUCTION     445 37.212484 37.169910\n",
            "REFLECTION       447 37.207354 37.167970\n",
            "LO-REDUCTION     449 37.198868 37.167970\n",
            "LO-REDUCTION     451 37.196791 37.167970\n",
            "REFLECTION       453 37.195678 37.165118\n",
            "REFLECTION       455 37.182299 37.162225\n",
            "LO-REDUCTION     457 37.181747 37.162225\n",
            "LO-REDUCTION     459 37.178337 37.162225\n",
            "EXTENSION        461 37.176193 37.147593\n",
            "LO-REDUCTION     463 37.170225 37.147593\n",
            "LO-REDUCTION     465 37.169910 37.147593\n",
            "LO-REDUCTION     467 37.167970 37.147593\n",
            "HI-REDUCTION     469 37.166048 37.147593\n",
            "LO-REDUCTION     471 37.165118 37.147593\n",
            "LO-REDUCTION     473 37.164180 37.147593\n",
            "LO-REDUCTION     475 37.162857 37.147593\n",
            "LO-REDUCTION     477 37.162225 37.147593\n",
            "EXTENSION        479 37.159056 37.133368\n",
            "LO-REDUCTION     481 37.158875 37.133368\n",
            "LO-REDUCTION     483 37.155532 37.133368\n",
            "LO-REDUCTION     485 37.155429 37.133368\n",
            "LO-REDUCTION     487 37.153412 37.133368\n",
            "EXTENSION        489 37.151374 37.117724\n",
            "LO-REDUCTION     491 37.149459 37.117724\n",
            "LO-REDUCTION     493 37.147593 37.117724\n",
            "LO-REDUCTION     495 37.147515 37.117724\n",
            "EXTENSION        497 37.139303 37.096529\n",
            "LO-REDUCTION     499 37.137139 37.096529\n",
            "LO-REDUCTION     501 37.136701 37.096529\n",
            "LO-REDUCTION     503 37.133368 37.096529\n",
            "EXTENSION        505 37.131056 37.082020\n",
            "LO-REDUCTION     507 37.126452 37.082020\n",
            "LO-REDUCTION     509 37.122741 37.082020\n",
            "EXTENSION        511 37.117724 37.061394\n",
            "LO-REDUCTION     513 37.110348 37.061394\n",
            "EXTENSION        515 37.108335 37.047591\n",
            "EXTENSION        517 37.098554 37.025890\n",
            "LO-REDUCTION     519 37.096529 37.025890\n",
            "LO-REDUCTION     521 37.085848 37.025890\n",
            "LO-REDUCTION     523 37.083910 37.025890\n",
            "LO-REDUCTION     525 37.082020 37.025890\n",
            "REFLECTION       527 37.064671 37.021385\n",
            "REFLECTION       529 37.061394 37.011456\n",
            "REFLECTION       531 37.047591 37.005724\n",
            "LO-REDUCTION     533 37.035798 37.005724\n",
            "LO-REDUCTION     535 37.031278 37.005724\n",
            "LO-REDUCTION     537 37.030350 37.005724\n",
            "REFLECTION       539 37.027625 37.002543\n",
            "LO-REDUCTION     541 37.025890 37.002543\n",
            "LO-REDUCTION     543 37.021385 37.002543\n",
            "LO-REDUCTION     545 37.011456 37.002543\n",
            "LO-REDUCTION     547 37.011131 37.002543\n",
            "REFLECTION       549 37.008373 37.000925\n",
            "REFLECTION       551 37.007879 36.999787\n",
            "LO-REDUCTION     553 37.007867 36.999787\n",
            "HI-REDUCTION     555 37.005724 36.999787\n",
            "REFLECTION       557 37.003494 36.998605\n",
            "LO-REDUCTION     559 37.003247 36.998605\n",
            "EXTENSION        561 37.002688 36.996568\n",
            "LO-REDUCTION     563 37.002595 36.996568\n",
            "LO-REDUCTION     565 37.002543 36.996568\n",
            "LO-REDUCTION     567 37.001745 36.996568\n",
            "LO-REDUCTION     569 37.000925 36.996568\n",
            "REFLECTION       571 37.000356 36.996390\n",
            "LO-REDUCTION     573 36.999787 36.996390\n",
            "LO-REDUCTION     575 36.998918 36.996390\n",
            "LO-REDUCTION     577 36.998752 36.996390\n",
            "EXTENSION        579 36.998605 36.994525\n",
            "LO-REDUCTION     581 36.998103 36.994525\n",
            "LO-REDUCTION     583 36.997774 36.994525\n",
            "LO-REDUCTION     585 36.997397 36.994525\n",
            "LO-REDUCTION     587 36.997032 36.994525\n",
            "LO-REDUCTION     589 36.996640 36.994525\n",
            "EXTENSION        591 36.996568 36.994322\n",
            "REFLECTION       593 36.996390 36.993924\n",
            "EXTENSION        595 36.996006 36.992564\n",
            "EXTENSION        597 36.995661 36.990936\n",
            "LO-REDUCTION     599 36.995288 36.990936\n",
            "LO-REDUCTION     601 36.994976 36.990936\n",
            "LO-REDUCTION     603 36.994916 36.990936\n",
            "EXTENSION        605 36.994525 36.989872\n",
            "LO-REDUCTION     607 36.994322 36.989872\n",
            "LO-REDUCTION     609 36.993924 36.989872\n",
            "REFLECTION       611 36.992564 36.988946\n",
            "EXTENSION        613 36.991856 36.986877\n",
            "LO-REDUCTION     615 36.991635 36.986877\n",
            "LO-REDUCTION     617 36.991440 36.986877\n",
            "LO-REDUCTION     619 36.991171 36.986877\n",
            "EXTENSION        621 36.990936 36.985126\n",
            "LO-REDUCTION     623 36.990080 36.985126\n",
            "LO-REDUCTION     625 36.989872 36.985126\n",
            "EXTENSION        627 36.988946 36.984791\n",
            "LO-REDUCTION     629 36.988310 36.984791\n",
            "EXTENSION        631 36.987745 36.982872\n",
            "EXTENSION        633 36.987231 36.980946\n",
            "LO-REDUCTION     635 36.986924 36.980946\n",
            "LO-REDUCTION     637 36.986877 36.980946\n",
            "LO-REDUCTION     639 36.986506 36.980946\n",
            "LO-REDUCTION     641 36.985358 36.980946\n",
            "LO-REDUCTION     643 36.985126 36.980946\n",
            "LO-REDUCTION     645 36.984791 36.980946\n",
            "EXTENSION        647 36.983750 36.980826\n",
            "LO-REDUCTION     649 36.983394 36.980826\n",
            "EXTENSION        651 36.982872 36.977896\n",
            "LO-REDUCTION     653 36.982848 36.977896\n",
            "LO-REDUCTION     655 36.982758 36.977896\n",
            "EXTENSION        657 36.982111 36.975329\n",
            "LO-REDUCTION     659 36.982093 36.975329\n",
            "EXTENSION        661 36.981070 36.973585\n",
            "LO-REDUCTION     663 36.980946 36.973585\n",
            "LO-REDUCTION     665 36.980826 36.973585\n",
            "EXTENSION        667 36.979424 36.969696\n",
            "LO-REDUCTION     669 36.978512 36.969696\n",
            "LO-REDUCTION     671 36.977896 36.969696\n",
            "EXTENSION        673 36.976368 36.964897\n",
            "LO-REDUCTION     675 36.975329 36.964897\n",
            "EXTENSION        677 36.974546 36.960789\n",
            "LO-REDUCTION     679 36.974132 36.960789\n",
            "LO-REDUCTION     681 36.973585 36.960789\n",
            "EXTENSION        683 36.971916 36.953384\n",
            "EXTENSION        685 36.970411 36.945740\n",
            "LO-REDUCTION     687 36.969696 36.945740\n",
            "LO-REDUCTION     689 36.967729 36.945740\n",
            "LO-REDUCTION     691 36.964897 36.945740\n",
            "LO-REDUCTION     693 36.963048 36.945740\n",
            "EXTENSION        695 36.962007 36.940327\n",
            "EXTENSION        697 36.960789 36.928944\n",
            "LO-REDUCTION     699 36.957190 36.928944\n",
            "LO-REDUCTION     701 36.953384 36.928944\n",
            "LO-REDUCTION     703 36.951381 36.928944\n",
            "EXTENSION        705 36.947448 36.922172\n",
            "LO-REDUCTION     707 36.946729 36.922172\n",
            "LO-REDUCTION     709 36.945740 36.922172\n",
            "LO-REDUCTION     711 36.940327 36.922172\n",
            "LO-REDUCTION     713 36.939701 36.922172\n",
            "EXTENSION        715 36.934422 36.899988\n",
            "LO-REDUCTION     717 36.930140 36.899988\n",
            "LO-REDUCTION     719 36.928944 36.899988\n",
            "LO-REDUCTION     721 36.926460 36.899988\n",
            "LO-REDUCTION     723 36.925428 36.899988\n",
            "LO-REDUCTION     725 36.925234 36.899988\n",
            "LO-REDUCTION     727 36.923472 36.899988\n",
            "LO-REDUCTION     729 36.922172 36.899988\n",
            "EXTENSION        731 36.916737 36.888669\n",
            "LO-REDUCTION     733 36.915919 36.888669\n",
            "EXTENSION        735 36.915563 36.876103\n",
            "LO-REDUCTION     737 36.909307 36.876103\n",
            "LO-REDUCTION     739 36.908264 36.876103\n",
            "EXTENSION        741 36.907401 36.857485\n",
            "LO-REDUCTION     743 36.903090 36.857485\n",
            "EXTENSION        745 36.899988 36.835793\n",
            "LO-REDUCTION     747 36.893495 36.835793\n",
            "LO-REDUCTION     749 36.888669 36.835793\n",
            "EXTENSION        751 36.882629 36.816247\n",
            "LO-REDUCTION     753 36.880232 36.816247\n",
            "EXTENSION        755 36.876103 36.776921\n",
            "LO-REDUCTION     757 36.862863 36.776921\n",
            "LO-REDUCTION     759 36.857485 36.776921\n",
            "LO-REDUCTION     761 36.846718 36.776921\n",
            "EXTENSION        763 36.840410 36.772870\n",
            "EXTENSION        765 36.835793 36.728651\n",
            "LO-REDUCTION     767 36.821228 36.728651\n",
            "LO-REDUCTION     769 36.816247 36.728651\n",
            "LO-REDUCTION     771 36.792161 36.728651\n",
            "LO-REDUCTION     773 36.785586 36.728651\n",
            "LO-REDUCTION     775 36.778090 36.728651\n",
            "LO-REDUCTION     777 36.776921 36.728651\n",
            "HI-REDUCTION     779 36.772870 36.728651\n",
            "EXTENSION        781 36.749515 36.698261\n",
            "LO-REDUCTION     783 36.749437 36.698261\n",
            "LO-REDUCTION     785 36.748478 36.698261\n",
            "LO-REDUCTION     787 36.746748 36.698261\n",
            "LO-REDUCTION     789 36.744450 36.698261\n",
            "LO-REDUCTION     791 36.739435 36.698261\n",
            "EXTENSION        793 36.738397 36.691976\n",
            "EXTENSION        795 36.728651 36.656469\n",
            "LO-REDUCTION     797 36.728478 36.656469\n",
            "LO-REDUCTION     799 36.722185 36.656469\n",
            "Exiting from Nelder Mead minimizer\n",
            "    801 function evaluations used\n"
          ]
        },
        {
          "output_type": "display_data",
          "data": {
            "text/html": [
              "<dl>\n",
              "\t<dt>$par</dt>\n",
              "\t\t<dd><style>\n",
              ".dl-inline {width: auto; margin:0; padding: 0}\n",
              ".dl-inline>dt, .dl-inline>dd {float: none; width: auto; display: inline-block}\n",
              ".dl-inline>dt::after {content: \":\\0020\"; padding-right: .5ex}\n",
              ".dl-inline>dt:not(:first-of-type) {padding-left: .5ex}\n",
              "</style><dl class=dl-inline><dt>log_lambda</dt><dd>-0.181793375750755</dd><dt>log_a</dt><dd>1.57257089170438</dd><dt>log_cMax</dt><dd>-0.170605571722566</dd><dt>log_cRate</dt><dd>0.551057780687401</dd><dt>log_cHalf</dt><dd>7.59541699485711</dd><dt>log_delta</dt><dd>-2.28723287058306</dd><dt>log_b</dt><dd>-6.52143641343252</dd><dt>log_mu</dt><dd>-3.03969272985713</dd></dl>\n",
              "</dd>\n",
              "\t<dt>$value</dt>\n",
              "\t\t<dd>36.6564688757374</dd>\n",
              "\t<dt>$counts</dt>\n",
              "\t\t<dd><style>\n",
              ".dl-inline {width: auto; margin:0; padding: 0}\n",
              ".dl-inline>dt, .dl-inline>dd {float: none; width: auto; display: inline-block}\n",
              ".dl-inline>dt::after {content: \":\\0020\"; padding-right: .5ex}\n",
              ".dl-inline>dt:not(:first-of-type) {padding-left: .5ex}\n",
              "</style><dl class=dl-inline><dt>function</dt><dd>801</dd><dt>gradient</dt><dd>&lt;NA&gt;</dd></dl>\n",
              "</dd>\n",
              "\t<dt>$convergence</dt>\n",
              "\t\t<dd>1</dd>\n",
              "\t<dt>$message</dt>\n",
              "\t\t<dd>NULL</dd>\n",
              "\t<dt>$hessian</dt>\n",
              "\t\t<dd><table class=\"dataframe\">\n",
              "<caption>A matrix: 8 × 8 of type dbl</caption>\n",
              "<thead>\n",
              "\t<tr><th></th><th scope=col>log_lambda</th><th scope=col>log_a</th><th scope=col>log_cMax</th><th scope=col>log_cRate</th><th scope=col>log_cHalf</th><th scope=col>log_delta</th><th scope=col>log_b</th><th scope=col>log_mu</th></tr>\n",
              "</thead>\n",
              "<tbody>\n",
              "\t<tr><th scope=row>log_lambda</th><td> 6.401640e+02</td><td>-4.491074e+02</td><td>-1.338358e+03</td><td>-1.637441e-01</td><td> 6.883840e+04</td><td>-5.600965e+02</td><td>-6.012270e+00</td><td> 3.559090e-03</td></tr>\n",
              "\t<tr><th scope=row>log_a</th><td>-4.491074e+02</td><td> 3.479530e+02</td><td> 9.735973e+02</td><td> 1.308724e+00</td><td>-5.956389e+04</td><td> 4.493119e+02</td><td> 4.756651e+00</td><td>-2.861272e-03</td></tr>\n",
              "\t<tr><th scope=row>log_cMax</th><td>-1.338358e+03</td><td> 9.735973e+02</td><td> 5.672411e+03</td><td> 1.176059e+01</td><td>-1.168463e+05</td><td> 1.893963e+03</td><td> 1.711372e+01</td><td>-2.000615e-03</td></tr>\n",
              "\t<tr><th scope=row>log_cRate</th><td>-1.637441e-01</td><td> 1.308724e+00</td><td> 1.176059e+01</td><td> 7.348238e-01</td><td>-5.693738e+02</td><td> 5.192759e+00</td><td> 3.641382e-02</td><td> 1.621085e-04</td></tr>\n",
              "\t<tr><th scope=row>log_cHalf</th><td> 6.883840e+04</td><td>-5.956389e+04</td><td>-1.168463e+05</td><td>-5.693738e+02</td><td> 1.580258e+07</td><td>-7.011512e+04</td><td>-7.771744e+02</td><td>-4.712192e-03</td></tr>\n",
              "\t<tr><th scope=row>log_delta</th><td>-5.600965e+02</td><td> 4.493119e+02</td><td> 1.893963e+03</td><td> 5.192759e+00</td><td>-7.011512e+04</td><td> 7.469624e+02</td><td> 7.197451e+00</td><td>-1.311032e-03</td></tr>\n",
              "\t<tr><th scope=row>log_b</th><td>-6.012270e+00</td><td> 4.756651e+00</td><td> 1.711372e+01</td><td> 3.641382e-02</td><td>-7.771744e+02</td><td> 7.197451e+00</td><td>-3.260704e-02</td><td>-1.257838e-05</td></tr>\n",
              "\t<tr><th scope=row>log_mu</th><td> 3.559090e-03</td><td>-2.861272e-03</td><td>-2.000615e-03</td><td> 1.621085e-04</td><td>-4.712192e-03</td><td>-1.311032e-03</td><td>-1.257838e-05</td><td>-2.680611e-04</td></tr>\n",
              "</tbody>\n",
              "</table>\n",
              "</dd>\n",
              "</dl>\n"
            ],
            "text/markdown": "$par\n:   log_lambda\n:   -0.181793375750755log_a\n:   1.57257089170438log_cMax\n:   -0.170605571722566log_cRate\n:   0.551057780687401log_cHalf\n:   7.59541699485711log_delta\n:   -2.28723287058306log_b\n:   -6.52143641343252log_mu\n:   -3.03969272985713\n\n\n$value\n:   36.6564688757374\n$counts\n:   function\n:   801gradient\n:   &lt;NA&gt;\n\n\n$convergence\n:   1\n$message\n:   NULL\n$hessian\n:   \nA matrix: 8 × 8 of type dbl\n\n| <!--/--> | log_lambda | log_a | log_cMax | log_cRate | log_cHalf | log_delta | log_b | log_mu |\n|---|---|---|---|---|---|---|---|---|\n| log_lambda |  6.401640e+02 | -4.491074e+02 | -1.338358e+03 | -1.637441e-01 |  6.883840e+04 | -5.600965e+02 | -6.012270e+00 |  3.559090e-03 |\n| log_a | -4.491074e+02 |  3.479530e+02 |  9.735973e+02 |  1.308724e+00 | -5.956389e+04 |  4.493119e+02 |  4.756651e+00 | -2.861272e-03 |\n| log_cMax | -1.338358e+03 |  9.735973e+02 |  5.672411e+03 |  1.176059e+01 | -1.168463e+05 |  1.893963e+03 |  1.711372e+01 | -2.000615e-03 |\n| log_cRate | -1.637441e-01 |  1.308724e+00 |  1.176059e+01 |  7.348238e-01 | -5.693738e+02 |  5.192759e+00 |  3.641382e-02 |  1.621085e-04 |\n| log_cHalf |  6.883840e+04 | -5.956389e+04 | -1.168463e+05 | -5.693738e+02 |  1.580258e+07 | -7.011512e+04 | -7.771744e+02 | -4.712192e-03 |\n| log_delta | -5.600965e+02 |  4.493119e+02 |  1.893963e+03 |  5.192759e+00 | -7.011512e+04 |  7.469624e+02 |  7.197451e+00 | -1.311032e-03 |\n| log_b | -6.012270e+00 |  4.756651e+00 |  1.711372e+01 |  3.641382e-02 | -7.771744e+02 |  7.197451e+00 | -3.260704e-02 | -1.257838e-05 |\n| log_mu |  3.559090e-03 | -2.861272e-03 | -2.000615e-03 |  1.621085e-04 | -4.712192e-03 | -1.311032e-03 | -1.257838e-05 | -2.680611e-04 |\n\n\n\n\n",
            "text/latex": "\\begin{description}\n\\item[\\$par] \\begin{description*}\n\\item[log\\textbackslash{}\\_lambda] -0.181793375750755\n\\item[log\\textbackslash{}\\_a] 1.57257089170438\n\\item[log\\textbackslash{}\\_cMax] -0.170605571722566\n\\item[log\\textbackslash{}\\_cRate] 0.551057780687401\n\\item[log\\textbackslash{}\\_cHalf] 7.59541699485711\n\\item[log\\textbackslash{}\\_delta] -2.28723287058306\n\\item[log\\textbackslash{}\\_b] -6.52143641343252\n\\item[log\\textbackslash{}\\_mu] -3.03969272985713\n\\end{description*}\n\n\\item[\\$value] 36.6564688757374\n\\item[\\$counts] \\begin{description*}\n\\item[function] 801\n\\item[gradient] <NA>\n\\end{description*}\n\n\\item[\\$convergence] 1\n\\item[\\$message] NULL\n\\item[\\$hessian] A matrix: 8 × 8 of type dbl\n\\begin{tabular}{r|llllllll}\n  & log\\_lambda & log\\_a & log\\_cMax & log\\_cRate & log\\_cHalf & log\\_delta & log\\_b & log\\_mu\\\\\n\\hline\n\tlog\\_lambda &  6.401640e+02 & -4.491074e+02 & -1.338358e+03 & -1.637441e-01 &  6.883840e+04 & -5.600965e+02 & -6.012270e+00 &  3.559090e-03\\\\\n\tlog\\_a & -4.491074e+02 &  3.479530e+02 &  9.735973e+02 &  1.308724e+00 & -5.956389e+04 &  4.493119e+02 &  4.756651e+00 & -2.861272e-03\\\\\n\tlog\\_cMax & -1.338358e+03 &  9.735973e+02 &  5.672411e+03 &  1.176059e+01 & -1.168463e+05 &  1.893963e+03 &  1.711372e+01 & -2.000615e-03\\\\\n\tlog\\_cRate & -1.637441e-01 &  1.308724e+00 &  1.176059e+01 &  7.348238e-01 & -5.693738e+02 &  5.192759e+00 &  3.641382e-02 &  1.621085e-04\\\\\n\tlog\\_cHalf &  6.883840e+04 & -5.956389e+04 & -1.168463e+05 & -5.693738e+02 &  1.580258e+07 & -7.011512e+04 & -7.771744e+02 & -4.712192e-03\\\\\n\tlog\\_delta & -5.600965e+02 &  4.493119e+02 &  1.893963e+03 &  5.192759e+00 & -7.011512e+04 &  7.469624e+02 &  7.197451e+00 & -1.311032e-03\\\\\n\tlog\\_b & -6.012270e+00 &  4.756651e+00 &  1.711372e+01 &  3.641382e-02 & -7.771744e+02 &  7.197451e+00 & -3.260704e-02 & -1.257838e-05\\\\\n\tlog\\_mu &  3.559090e-03 & -2.861272e-03 & -2.000615e-03 &  1.621085e-04 & -4.712192e-03 & -1.311032e-03 & -1.257838e-05 & -2.680611e-04\\\\\n\\end{tabular}\n\n\\end{description}\n",
            "text/plain": [
              "$par\n",
              "log_lambda      log_a   log_cMax  log_cRate  log_cHalf  log_delta      log_b \n",
              "-0.1817934  1.5725709 -0.1706056  0.5510578  7.5954170 -2.2872329 -6.5214364 \n",
              "    log_mu \n",
              "-3.0396927 \n",
              "\n",
              "$value\n",
              "[1] 36.65647\n",
              "\n",
              "$counts\n",
              "function gradient \n",
              "     801       NA \n",
              "\n",
              "$convergence\n",
              "[1] 1\n",
              "\n",
              "$message\n",
              "NULL\n",
              "\n",
              "$hessian\n",
              "              log_lambda         log_a      log_cMax     log_cRate\n",
              "log_lambda  6.401640e+02 -4.491074e+02 -1.338358e+03 -1.637441e-01\n",
              "log_a      -4.491074e+02  3.479530e+02  9.735973e+02  1.308724e+00\n",
              "log_cMax   -1.338358e+03  9.735973e+02  5.672411e+03  1.176059e+01\n",
              "log_cRate  -1.637441e-01  1.308724e+00  1.176059e+01  7.348238e-01\n",
              "log_cHalf   6.883840e+04 -5.956389e+04 -1.168463e+05 -5.693738e+02\n",
              "log_delta  -5.600965e+02  4.493119e+02  1.893963e+03  5.192759e+00\n",
              "log_b      -6.012270e+00  4.756651e+00  1.711372e+01  3.641382e-02\n",
              "log_mu      3.559090e-03 -2.861272e-03 -2.000615e-03  1.621085e-04\n",
              "               log_cHalf     log_delta         log_b        log_mu\n",
              "log_lambda  6.883840e+04 -5.600965e+02 -6.012270e+00  3.559090e-03\n",
              "log_a      -5.956389e+04  4.493119e+02  4.756651e+00 -2.861272e-03\n",
              "log_cMax   -1.168463e+05  1.893963e+03  1.711372e+01 -2.000615e-03\n",
              "log_cRate  -5.693738e+02  5.192759e+00  3.641382e-02  1.621085e-04\n",
              "log_cHalf   1.580258e+07 -7.011512e+04 -7.771744e+02 -4.712192e-03\n",
              "log_delta  -7.011512e+04  7.469624e+02  7.197451e+00 -1.311032e-03\n",
              "log_b      -7.771744e+02  7.197451e+00 -3.260704e-02 -1.257838e-05\n",
              "log_mu     -4.712192e-03 -1.311032e-03 -1.257838e-05 -2.680611e-04\n"
            ]
          },
          "metadata": {}
        }
      ],
      "source": [
        "# Optimize using Nelder-Mead\n",
        "optim.vals <- optim(par = optim.vals$par, objFXN, fixed.params = disease_params(),\n",
        "obsDat = myDat, control = list(trace = 3, maxit = 800, reltol = 10^-7), method = \"Nelder-Mead\", hessian = TRUE)\n",
        "optim.vals\n",
        "#  Converts optimized parameters (MLEfits) from logarithmic scale to their original scale.\n",
        "MLEfits <- optim.vals$par\n",
        "final_parameters <- c(exp(unname(MLEfits)))"
      ]
    },
    {
      "cell_type": "code",
      "source": [
        "# @title\n",
        "# # L-BFGS-B (Limited-memory Broyden–Fletcher–Goldfarb–Shanno with Bounds):\n",
        "# # Example of parameter bounds\n",
        "# lower_bounds <- c(log_lambda = -Inf, log_a = -Inf, log_cMax = -Inf,\n",
        "#                   log_cRate = -Inf, log_cHalf = 1000, log_delta = -Inf,\n",
        "#                   log_b = -Inf, log_mu = -Inf)\n",
        "\n",
        "# upper_bounds <- c(log_lambda = 0, log_a = 5, log_cMax = 1,\n",
        "#                   log_cRate = 5, log_cHalf = 3000, log_delta = 0,\n",
        "#                   log_b = 0.05, log_mu = 0.05)\n",
        "\n",
        "# # Combine into a bounds matrix\n",
        "# bounds <- rbind(lower_bounds, upper_bounds)\n",
        "\n",
        "\n",
        "# # Perform optimization using L-BFGS-B\n",
        "# optim.vals <- optim(par = init.pars, fn = objFXN, gr = NULL, fixed.params = disease_params(),\n",
        "#                     obsDat = myDat, lower = bounds[1, ], upper = bounds[2, ], method = \"L-BFGS-B\")\n",
        "\n",
        "# # Extract optimized parameters\n",
        "# MLEfits <- optim.vals$par\n",
        "# final_parameters <- exp(MLEfits)\n",
        "# final_parameters"
      ],
      "metadata": {
        "id": "3zGNawGomNSs",
        "cellView": "form"
      },
      "id": "3zGNawGomNSs",
      "execution_count": null,
      "outputs": []
    },
    {
      "cell_type": "code",
      "execution_count": null,
      "id": "c895db91",
      "metadata": {
        "id": "c895db91",
        "outputId": "185c3a43-07a9-4ee8-a904-5a7e45507cd9",
        "colab": {
          "base_uri": "https://localhost:8080/",
          "height": 437
        }
      },
      "outputs": [
        {
          "output_type": "display_data",
          "data": {
            "text/plain": [
              "plot without title"
            ],
            "image/png": "[encoded data removed]"
          },
          "metadata": {
            "image/png": {
              "width": 420,
              "height": 420
            }
          }
        }
      ],
      "source": [
        "# Plot MLE fit time series\n",
        "fitDat <- simEpidemic(init, tseq = tseqAnnual, modFunction = SImod, parms = subsParms(optim.vals$par, trueParms))\n",
        "\n",
        "ggplot() +\n",
        "  geom_line(data = simDat, aes(x = time, y = P), color = \"red\") +\n",
        "  geom_line(data = fitDat, aes(x = time, y = P), color = \"blue\") +\n",
        "  geom_point(data = myDat, aes(x = time, y = sampPrev), color = \"red\", size = 2) +\n",
        "  geom_errorbar(data = myDat, aes(x = time, ymin = lci, ymax = uci), width = 0.2, color = \"red\") +\n",
        "  labs(title = \"True and Fitted HIV Prevalence\",\n",
        "       x = \"Year\",\n",
        "       y = \"Prevalence\") +\n",
        "  theme_minimal()"
      ]
    },
    {
      "cell_type": "markdown",
      "id": "29ee05fd",
      "metadata": {
        "id": "29ee05fd"
      },
      "source": [
        "# **Section 2 : Markov Chain Monte Carlo (MCMC)**"
      ]
    }
  ],
  "metadata": {
    "kernelspec": {
      "display_name": "R",
      "name": "ir"
    },
    "language_info": {
      "codemirror_mode": "r",
      "file_extension": ".r",
      "mimetype": "text/x-r-source",
      "name": "R",
      "pygments_lexer": "r",
      "version": "4.4.1"
    },
    "colab": {
      "provenance": [],
      "gpuType": "T4"
    },
    "accelerator": "GPU"
  },
  "nbformat": 4,
  "nbformat_minor": 5
}